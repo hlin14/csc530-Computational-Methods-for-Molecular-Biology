{
 "cells": [
  {
   "cell_type": "code",
   "execution_count": 600,
   "metadata": {},
   "outputs": [
    {
     "data": {
      "text/plain": [
       "Make_Profile (generic function with 1 method)"
      ]
     },
     "execution_count": 600,
     "metadata": {},
     "output_type": "execute_result"
    }
   ],
   "source": [
    "function Make_Profile(k, t, motifs, pseudo_counts)\n",
    "\n",
    "    count_dic = Dict('A' => [], 'G'=> [], 'T'=> [], 'C'=> [])\n",
    "\n",
    "    for j = 1:k\n",
    "        A_num = 0\n",
    "        G_num = 0\n",
    "        T_num = 0\n",
    "        C_num = 0\n",
    "        for i = 1:t\n",
    "            if motifs[i][j] == 'A'\n",
    "                A_num += 1\n",
    "            elseif motifs[i][j] == 'G'\n",
    "                G_num += 1\n",
    "            elseif motifs[i][j] == 'T'\n",
    "                T_num += 1\n",
    "            elseif motifs[i][j] == 'C'\n",
    "                C_num += 1\n",
    "            end\n",
    "        end\n",
    "        push!(count_dic['A'], A_num) \n",
    "        push!(count_dic['G'], G_num)\n",
    "        push!(count_dic['T'], T_num)\n",
    "        push!(count_dic['C'], C_num)\n",
    "    end\n",
    "\n",
    "    #print(count_dic)\n",
    "\n",
    "    if pseudo_counts == false\n",
    "        for letter in ['A', 'G', 'T', 'C']\n",
    "            for i in 1:length(count_dic[letter])\n",
    "                count_dic[letter][i] /= t\n",
    "            end\n",
    "        end\n",
    "    \n",
    "    else\n",
    "        \n",
    "        for letter in ['A', 'G', 'T', 'C']\n",
    "            for i in 1:length(count_dic[letter])\n",
    "                count_dic[letter][i] += 1\n",
    "                count_dic[letter][i]/= (t + 4)\n",
    "            end\n",
    "        end        \n",
    "        \n",
    "        \n",
    "    end\n",
    "    #print(count_dic)\n",
    "    \n",
    "     return count_dic\n",
    "end"
   ]
  },
  {
   "cell_type": "code",
   "execution_count": 601,
   "metadata": {},
   "outputs": [
    {
     "data": {
      "text/plain": [
       "Get_Kmer (generic function with 1 method)"
      ]
     },
     "execution_count": 601,
     "metadata": {},
     "output_type": "execute_result"
    }
   ],
   "source": [
    "function Get_Kmer(k, profile, DNA, deterministic)\n",
    "    l = length(DNA[1])\n",
    "    pro_list = []\n",
    "    candidate_list = []\n",
    "    max_list = []\n",
    "    for i in 1:length(DNA)\n",
    "        temp = []\n",
    "        temp2 = []\n",
    "        temp3 = \"\"\n",
    "        max_pro = 0\n",
    "        for j in 1:l - k + 1\n",
    "            candidate = DNA[i][j:j+k-1]\n",
    "            push!(temp2, candidate)\n",
    "            pro = 1\n",
    "            for char_idx in 1:length(candidate)\n",
    "                pro = pro * profile[candidate[char_idx]][char_idx]\n",
    "            end\n",
    "            push!(temp, pro)\n",
    "            if pro >= max_pro\n",
    "                max_pro = pro\n",
    "                temp3 = candidate\n",
    "            end\n",
    "            #println(pro)\n",
    "            #print(\"   \")\n",
    "        end\n",
    "        push!(pro_list, temp)\n",
    "        push!(candidate_list, temp2)\n",
    "        push!(max_list, temp3)\n",
    "    end\n",
    "    \n",
    "    \n",
    "    if deterministic == true\n",
    "        return max_list\n",
    "\n",
    "    else\n",
    "        res = []\n",
    "        for i in 1:length(candidate_list)\n",
    "            items = candidate_list[i]\n",
    "            weights = pro_list[i]\n",
    "            weights = convert(Array{Float64,1},weights)\n",
    "            #print(weights)\n",
    "            push!(res, sample(items, Weights(weights)))\n",
    "        end\n",
    "        return  res\n",
    "    end\n",
    "\n",
    "end"
   ]
  },
  {
   "cell_type": "code",
   "execution_count": 602,
   "metadata": {},
   "outputs": [
    {
     "data": {
      "text/plain": [
       "getRandomMotif (generic function with 1 method)"
      ]
     },
     "execution_count": 602,
     "metadata": {},
     "output_type": "execute_result"
    }
   ],
   "source": [
    "function getRandomMotif(DNA, k, t)\n",
    "    init_motif = []\n",
    "    l = length(DNA[1])\n",
    "    #print(l)\n",
    "    for i = 1:t\n",
    "        random_s = rand(1:l-k+1)\n",
    "        push!(init_motif, DNA[i][random_s:random_s + k - 1])\n",
    "    end\n",
    "    return init_motif\n",
    "end"
   ]
  },
  {
   "cell_type": "code",
   "execution_count": 603,
   "metadata": {},
   "outputs": [
    {
     "data": {
      "text/plain": [
       "motifScore (generic function with 2 methods)"
      ]
     },
     "execution_count": 603,
     "metadata": {},
     "output_type": "execute_result"
    }
   ],
   "source": [
    "function motifScore(k, t, motifs)\n",
    "    motif_score = 0\n",
    "    #println(motifs)\n",
    "    profile = Make_Profile(k, t, motifs, true)\n",
    "    #println(\"profile:\",profile)\n",
    "    char_list = []\n",
    "    pro_max_char = \"\"\n",
    "    for j = 1:length(motifs[1])\n",
    "        pro_max = 0\n",
    "        for i = ['A', 'G', 'T', 'C']\n",
    "            if profile[i][j] >= pro_max\n",
    "                pro_max = profile[i][j]\n",
    "                pro_max_char = i\n",
    "            end\n",
    "        end\n",
    "        #println(\"pro_max:\",pro_max)\n",
    "        push!(char_list, pro_max_char)\n",
    "    end\n",
    "    \n",
    "    #println(\"char_list:\",char_list)\n",
    "    for i = 1:length(motifs)\n",
    "        #println(\"i:\",i)\n",
    "        for j = 1:length(motifs[1])\n",
    "            #println(\"j:\",j)\n",
    "            if motifs[i][j] != char_list[j]\n",
    "                motif_score += 1\n",
    "            end\n",
    "        end\n",
    "    end\n",
    "    \n",
    "    return motif_score\n",
    "end"
   ]
  },
  {
   "cell_type": "code",
   "execution_count": 645,
   "metadata": {},
   "outputs": [
    {
     "data": {
      "text/plain": [
       "GIBBSSAMPLER (generic function with 1 method)"
      ]
     },
     "execution_count": 645,
     "metadata": {},
     "output_type": "execute_result"
    }
   ],
   "source": [
    "function GIBBSSAMPLER(DNA, k, t, N)\n",
    "    # randomly select k-mers Motifs = (Motif1, …, Motift) in each string from DNA\n",
    "    motifs = getRandomMotif(DNA, k, t)\n",
    "    #print(motifs)\n",
    "    bestMotifs = motifs\n",
    "    \n",
    "    for j = 1:N\n",
    "        #print(j)\n",
    "        i = rand(1:t)\n",
    "        cur_motif = []\n",
    "        #println(\"i:\",i)\n",
    "        #println(motifs)\n",
    "        for idx = 1:length(motifs)\n",
    "            #print(\"idx:\",idx)\n",
    "            if idx != i\n",
    "                push!(cur_motif, motifs[idx])\n",
    "            end\n",
    "        end\n",
    "        #println(\"cur:\", cur_motif)\n",
    "        profile = Make_Profile(k, t-1, cur_motif, true)\n",
    "        #print(profile)\n",
    "        Kmer = Get_Kmer(k, profile, DNA, false)\n",
    "        sub_motif_i = Kmer[i]\n",
    "        #println(\"sub_motif_i:\",sub_motif_i)\n",
    "        motifs[i] = sub_motif_i\n",
    "        #println(\"motifs:\",motifs)\n",
    "        motif_score = motifScore(k, t, motifs)\n",
    "        #println(\"motif_score:\",motif_score)\n",
    "        best_score = motifScore(k, t, bestMotifs)\n",
    "        if motif_score < best_score\n",
    "            bestMotifs = motifs\n",
    "        end\n",
    "    end\n",
    "    return bestMotifs\n",
    "    \n",
    "end"
   ]
  },
  {
   "cell_type": "code",
   "execution_count": 646,
   "metadata": {},
   "outputs": [
    {
     "data": {
      "text/plain": [
       "readfile (generic function with 2 methods)"
      ]
     },
     "execution_count": 646,
     "metadata": {},
     "output_type": "execute_result"
    }
   ],
   "source": [
    "function readfile(fname)\n",
    "    k = 0\n",
    "    t = 0\n",
    "    n = 0\n",
    "    str = []\n",
    "    open(fname) do file\n",
    "        k,t,n = parse(Int, readuntil(file,\" \")), parse(Int, readuntil(file,\" \")),parse(Int, readuntil(file,\"\\n\"))\n",
    "        for ln in eachline(file)\n",
    "            chars = []\n",
    "            \n",
    "            for i in 1:length(ln)\n",
    "                push!(chars, uppercase(ln[i]))\n",
    "            end\n",
    "            \n",
    "            push!(str,chars)\n",
    "            \n",
    "        end\n",
    "    end\n",
    "    \n",
    "    return k, t, n, str\n",
    "end"
   ]
  },
  {
   "cell_type": "code",
   "execution_count": 716,
   "metadata": {},
   "outputs": [
    {
     "name": "stdout",
     "output_type": "stream",
     "text": [
      "\u001b[32m\u001b[1m Resolving\u001b[22m\u001b[39m package versions...\n",
      "\u001b[32m\u001b[1m  Updating\u001b[22m\u001b[39m `~/.julia/environments/v1.0/Project.toml`\n",
      "\u001b[90m [no changes]\u001b[39m\n",
      "\u001b[32m\u001b[1m  Updating\u001b[22m\u001b[39m `~/.julia/environments/v1.0/Manifest.toml`\n",
      "\u001b[90m [no changes]\u001b[39m\n",
      "fname:test1.txt\n",
      "scores:Any[14, 17, 17, 19, 15, 14, 15, 15, 15, 17]\n",
      "ave_score:15.8\n",
      "fname:test2.txt\n",
      "scores:Any[7, 12, 5, 9, 18, 9, 17, 12, 5, 7]\n",
      "ave_score:10.1\n",
      "fname:test3.txt\n",
      "scores:Any[8, 16, 8, 12, 15, 8, 16, 8, 12, 8]\n",
      "ave_score:11.1\n"
     ]
    }
   ],
   "source": [
    "using Pkg\n",
    "Pkg.add(\"StatsBase\")\n",
    "using StatsBase\n",
    "\n",
    "\n",
    "\n",
    "for fname in [\"test1.txt\",\"test2.txt\",\"test3.txt\"]\n",
    "    println(\"fname:\",fname)\n",
    "    scores = []\n",
    "    for i = 1:10\n",
    "        k,t,n,DNA = readfile(fname)\n",
    "\n",
    "        #print(k,t,n,DNA)\n",
    "\n",
    "        bestMotifs = GIBBSSAMPLER(DNA, k, t, n)\n",
    "\n",
    "        #println(bestMotifs)\n",
    "        score = motifScore(k,t,bestMotifs)\n",
    "        #println(\"score:\",score)\n",
    "        push!(scores,score)\n",
    "    end\n",
    "    println(\"scores:\", scores)\n",
    "    println(\"ave_score:\",sum(scores)/length(scores))\n",
    "end\n"
   ]
  },
  {
   "cell_type": "markdown",
   "metadata": {},
   "source": [
    "The default pseudo_counts is set to true, and the deterministic is set to false.\n",
    "I run the GIBBSSAMPLER 10 time, and get the average score to see the performance. The score of sample in the homework is around 14 which is pretty far from the answer 9. I am not sure if it is because of the number of n is not big enough. And I also collect the data from http://jaspar.genereg.net/downloads/ to get other samples.Also, n is set to 300.\n",
    "(The score is set to be the lower the better)\n",
    "Average score of test2.txt is 8.9, and correct answer is 5\n",
    "Average score of test3.txt is 12.7, and correct answer is 8\n",
    "After observation, the gibsamppleing method can \"sometime\" get the best answer, about 0.2 chance that it can produce the best answer, but others could be pretty bad score, so it leads to not really good average score."
   ]
  },
  {
   "cell_type": "code",
   "execution_count": null,
   "metadata": {},
   "outputs": [],
   "source": []
  }
 ],
 "metadata": {
  "kernelspec": {
   "display_name": "Julia 1.0.0",
   "language": "julia",
   "name": "julia-1.0"
  },
  "language_info": {
   "file_extension": ".jl",
   "mimetype": "application/julia",
   "name": "julia",
   "version": "1.0.0"
  }
 },
 "nbformat": 4,
 "nbformat_minor": 2
}
